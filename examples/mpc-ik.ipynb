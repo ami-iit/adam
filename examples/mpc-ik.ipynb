{
  "cells": [
    {
      "cell_type": "markdown",
      "metadata": {
        "id": "view-in-github",
        "colab_type": "text"
      },
      "source": [
        "<a href=\"https://colab.research.google.com/github/ami-iit/ADAM/blob/main/examples/mpc-ik.ipynb\" target=\"_parent\"><img src=\"https://colab.research.google.com/assets/colab-badge.svg\" alt=\"Open In Colab\"/></a>"
      ]
    },
    {
      "cell_type": "markdown",
      "source": [
        "## Install Mujoco, adam, and mediapy.\n",
        "\n",
        "Download also mujoco-menagerie for the panda model and the urdf needed from adam.\n",
        "Set some stuff for the visualization."
      ],
      "metadata": {
        "id": "MmkmgG_gGWVi"
      }
    },
    {
      "cell_type": "code",
      "execution_count": null,
      "metadata": {
        "id": "4YLBIn1QLEqx"
      },
      "outputs": [],
      "source": [
        "!pip install mujoco\n",
        "!pip install adam-robotics\n",
        "!pip install -q mediapy\n",
        "!git clone https://github.com/google-deepmind/mujoco_menagerie.git\n",
        "!wget https://raw.githubusercontent.com/bulletphysics/bullet3/master/examples/pybullet/gym/pybullet_data/franka_panda/panda.urdf\n",
        "# Graphics and plotting.\n",
        "print('Installing mediapy:')\n",
        "!command -v ffmpeg >/dev/null || (apt update && apt install -y ffmpeg)\n",
        "\n",
        "# Configure MuJoCo to use the EGL rendering backend (requires GPU)\n",
        "print('Setting environment variable to use GPU rendering:')\n",
        "%env MUJOCO_GL=egl\n",
        "%env OMP_NUM_THREADS=1"
      ]
    },
    {
      "cell_type": "markdown",
      "source": [
        "## Import packages"
      ],
      "metadata": {
        "id": "Dz4cHPy2Gtmq"
      }
    },
    {
      "cell_type": "code",
      "execution_count": null,
      "metadata": {
        "id": "ztJxnbhaLEqz"
      },
      "outputs": [],
      "source": [
        "import mujoco\n",
        "import mediapy as media\n",
        "from adam.casadi import KinDynComputations\n",
        "import numpy as np\n",
        "import casadi as cs\n",
        "import distutils.util\n",
        "import os\n",
        "import subprocess"
      ]
    },
    {
      "cell_type": "markdown",
      "source": [
        "## Import the panda scene in mujoco"
      ],
      "metadata": {
        "id": "2zw4FO-IGxdR"
      }
    },
    {
      "cell_type": "code",
      "execution_count": null,
      "metadata": {
        "id": "iEBl8tgoLEq0"
      },
      "outputs": [],
      "source": [
        "# load scene from xml\n",
        "model = mujoco.MjModel.from_xml_path(\"mujoco_menagerie/franka_emika_panda/scene.xml\")\n"
      ]
    },
    {
      "cell_type": "markdown",
      "source": [
        "## Import urdf in adam\n",
        "\n",
        "Set the commanded joint list and impor the urdf in adam.\n",
        "\n",
        "For now I have to use a separate urdf for adam.\n",
        "An importer for a mujoco model could be an idea for the future!"
      ],
      "metadata": {
        "id": "CZMO7PsmKUB6"
      }
    },
    {
      "cell_type": "code",
      "execution_count": null,
      "metadata": {
        "id": "gupN7s3CLEq0"
      },
      "outputs": [],
      "source": [
        "joints_name_list = ['panda_joint1', 'panda_joint2', 'panda_joint3', 'panda_joint4', 'panda_joint5', 'panda_joint6', 'panda_joint7', 'panda_joint8']\n",
        "\n",
        "kindyn = KinDynComputations(urdfstring=\"panda.urdf\", joints_name_list=joints_name_list)\n"
      ]
    },
    {
      "cell_type": "markdown",
      "source": [
        "## A wrapper interface with mujoco"
      ],
      "metadata": {
        "id": "g5LX5kQAKwaM"
      }
    },
    {
      "cell_type": "code",
      "execution_count": null,
      "metadata": {
        "id": "XpniQY18LEq0"
      },
      "outputs": [],
      "source": [
        "class MujocoWrapper:\n",
        "  # a simple wrapper to use mujoco as a simulator\n",
        "  def __init__(self, model, joints_list=None):\n",
        "    self.model = model\n",
        "    self.data = mujoco.MjData(model)\n",
        "    self.renderer = mujoco.Renderer(self.model)\n",
        "\n",
        "  def set_qpos(self, qpos):\n",
        "    # set the joint positions\n",
        "    self.data.qpos[:] = qpos\n",
        "    mujoco.mj_forward(self.model, self.data)\n",
        "\n",
        "  def get_qpos(self):\n",
        "    # get the joint positions\n",
        "    return self.data.qpos[:]\n",
        "\n",
        "  def render(self):\n",
        "    # render the scene and return the frame\n",
        "    mujoco.mj_forward(self.model, self.data)\n",
        "    self.renderer.update_scene(self.data)\n",
        "    return self.renderer.render()\n",
        "\n",
        "  def step(self):\n",
        "    # step the simulation\n",
        "    mujoco.mj_step(self.model, self.data)\n",
        "\n",
        "  def set_qvel(self, qvel):\n",
        "    # set the joint velocities\n",
        "    self.data.qvel[:] = qvel\n",
        "    mujoco.mj_forward(self.model, self.data)\n",
        "\n",
        "wrapper = MujocoWrapper(model)\n"
      ]
    },
    {
      "cell_type": "markdown",
      "source": [
        "# Model Inverse Kinematics as an MPC\n",
        "\n",
        "An MPC is maybe not the best way to solve an IK problem.\n",
        "I just want to show how to use the casadi interface."
      ],
      "metadata": {
        "id": "wuY9hqdlD3Vo"
      }
    },
    {
      "cell_type": "code",
      "execution_count": null,
      "metadata": {
        "id": "r8w2TWr6LEq1"
      },
      "outputs": [],
      "source": [
        "# Create a casadi function for the forward kinematics of the end-effector\n",
        "w_H_ee = kindyn.forward_kinematics_fun(\"panda_hand\")\n",
        "\n",
        "# casadi opti stack\n",
        "opti = cs.Opti()\n",
        "\n",
        "N = 10 # number of control intervals\n",
        "dt = 0.05 # time step\n",
        "\n",
        "# joints variables\n",
        "q = opti.variable(8, N+1)\n",
        "q_dot = opti.variable(8, N)\n",
        "w_H_b = np.eye(4) # base of the manipulator as identity matrix\n",
        "\n",
        "# set the desidered end-effector position as a parameter\n",
        "# it will be set later when the mpc is solved at each iteration\n",
        "des_ee_pos = opti.parameter(3)\n",
        "\n",
        "# initial joint positions. It will be set at each iteration\n",
        "q0 = opti.parameter(8)\n",
        "opti.subject_to(q[:, 0] == q0)\n",
        "\n",
        "target_cost = 0\n",
        "\n",
        "for i in range(N):\n",
        "    # integration - forward euler\n",
        "    opti.subject_to(q[:, i+1] == q[:, i] + q_dot[:, i] * dt)\n",
        "    # bounds on the joint velocities\n",
        "    opti.subject_to(opti.bounded(-5, q_dot[:, i], 5))\n",
        "    # running cost\n",
        "    target_cost += cs.sumsqr(w_H_ee(w_H_b, q[:, i])[:3, 3] - des_ee_pos) * dt\n",
        "\n",
        "# final cost\n",
        "target_cost += cs.sumsqr(w_H_ee(w_H_b, q[:, -1])[:3, 3] - des_ee_pos)\n",
        "# regularization on joint velocities as cost\n",
        "velocities_cost = cs.sumsqr(q_dot) * 1e-3\n",
        "\n",
        "# minimize the total cost\n",
        "opti.minimize(target_cost + velocities_cost)\n",
        "\n",
        "# set the solver\n",
        "p_opts = {\"expand\": True, 'ipopt.print_level': 0, 'print_time': 0, 'ipopt.sb': 'yes'}\n",
        "s_opts = {\"max_iter\": 100, \"print_level\": 0}\n",
        "opti.solver(\"ipopt\", p_opts, s_opts)\n"
      ]
    },
    {
      "cell_type": "markdown",
      "source": [
        "# Simulation loop\n",
        "\n",
        "We set the joint velocities as control input in Mujoco.\n",
        "We retrieve the joint positions as measurement from Mujoco and set them as starting state for the MPC.\n",
        "\n",
        "On the notebook it is a bit slow.\n",
        "To run it real time set OMP_NUM_THREADS=1 on your laptop!"
      ],
      "metadata": {
        "id": "Hf-Uq8PWFy6v"
      }
    },
    {
      "cell_type": "code",
      "execution_count": null,
      "metadata": {
        "id": "zG_pcqOfLEq1"
      },
      "outputs": [],
      "source": [
        "print(\"Simulation in progress. Wait a bit!\")\n",
        "\n",
        "# start mujoco simulation along with control\n",
        "duration = 10  # (seconds)\n",
        "framerate = 60  # (Hz)\n",
        "\n",
        "# Simulate and display video.\n",
        "\n",
        "# initial desired end-effector position\n",
        "des_ee_pos_numeric = np.array([0.4, 1.0, 0.4])\n",
        "\n",
        "frames = []\n",
        "mujoco.mj_resetData(wrapper.model, wrapper.data)\n",
        "i = 0\n",
        "while wrapper.data.time < duration:\n",
        "  wrapper.step()\n",
        "  if len(frames) < wrapper.data.time * framerate:\n",
        "    # you do not need to set the desired ee position every time step\n",
        "    # you can set it only when you want to change it\n",
        "    opti.set_value(des_ee_pos, des_ee_pos_numeric)\n",
        "    q0_numeric = wrapper.get_qpos()\n",
        "    # remove the last joint since they are not controlled\n",
        "    q0_numeric = q0_numeric[:-1]\n",
        "    # set the initial condition\n",
        "    opti.set_value(q0, q0_numeric)\n",
        "    sol = opti.solve()\n",
        "    # take the q_dot solution at the first time step and extend with the last joint to 0\n",
        "    sol_q_dot = sol.value(q_dot)[:, 0]\n",
        "    sol_q_dot = np.concatenate((sol_q_dot, np.zeros(1)))\n",
        "    wrapper.set_qvel(sol_q_dot)\n",
        "    pixels = wrapper.render()\n",
        "    frames.append(pixels)\n",
        "    # set the solution as the initial condition for the next time step\n",
        "    opti.set_initial(q, sol.value(q))\n",
        "    opti.set_initial(q_dot, sol.value(q_dot))\n",
        "    i += 1\n",
        "    if wrapper.data.time > 2:\n",
        "      # change the desired ee position\n",
        "      des_ee_pos_numeric = np.array([2.0, 0.0, 0.2])\n",
        "      opti.set_value(des_ee_pos, des_ee_pos_numeric)\n",
        "    if wrapper.data.time > 4:\n",
        "      # change the desired ee position\n",
        "      des_ee_pos_numeric = np.array([0.0, 0.5, 0.4])\n",
        "      opti.set_value(des_ee_pos, des_ee_pos_numeric)\n",
        "    if wrapper.data.time > 6:\n",
        "      # change the desired ee position\n",
        "      des_ee_pos_numeric = np.array([0.0, -0.6, 0.6])\n",
        "      opti.set_value(des_ee_pos, des_ee_pos_numeric)\n",
        "\n",
        "media.show_video(frames, fps=framerate)\n"
      ]
    }
  ],
  "metadata": {
    "kernelspec": {
      "display_name": "adam_env",
      "language": "python",
      "name": "python3"
    },
    "language_info": {
      "codemirror_mode": {
        "name": "ipython",
        "version": 3
      },
      "file_extension": ".py",
      "mimetype": "text/x-python",
      "name": "python",
      "nbconvert_exporter": "python",
      "pygments_lexer": "ipython3",
      "version": "3.10.11"
    },
    "colab": {
      "provenance": [],
      "include_colab_link": true
    }
  },
  "nbformat": 4,
  "nbformat_minor": 0
}